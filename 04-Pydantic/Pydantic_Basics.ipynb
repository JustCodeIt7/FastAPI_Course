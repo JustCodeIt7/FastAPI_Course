{
 "cells": [
  {
   "cell_type": "markdown",
   "metadata": {},
   "source": [
    "# Pydantic Basics\n",
    "\n",
    "- Pydantic is a data validation and settings management using Python type annotations.\n",
    "- Pydantic enforces type hints at runtime, and provides user friendly errors when data is invalid.\n",
    "- Using Pydantic models to define the schema of the data, and then validate the data against it.\n",
    "\n",
    "Benefits of Pydantic:\n",
    "- IDE autocompletion and type hinting.\n",
    "- Data validation\n",
    "- JSON serialization"
   ]
  },
  {
   "cell_type": "code",
   "execution_count": 39,
   "metadata": {},
   "outputs": [],
   "source": [
    "from pydantic import BaseModel\n",
    "\n",
    "\n",
    "class User(BaseModel):\n",
    "    id: int\n",
    "    name: str\n",
    "    email: str\n",
    "    password: str"
   ]
  },
  {
   "cell_type": "markdown",
   "metadata": {},
   "source": [
    "### Creating Instances of Pydantic Models\n",
    "- Get auto-completion with the model's attributes."
   ]
  },
  {
   "cell_type": "code",
   "execution_count": 40,
   "metadata": {},
   "outputs": [],
   "source": [
    "# Initialize the User class with input values\n",
    "user = User(id=1, name=\"John Doe\", email=\"hi@gmail.com\", password=\"secret\")\n",
    "\n",
    "# user object is now a dictionary\n",
    "\n",
    "user_dict = {\"id\": 1, \"name\": \"John Doe\", \"email\": \"john@gmail.com\", \"password\": \"123456\"}\n",
    "\n",
    "# Create a User object from a dictionary using the ** operator to unpack the dictionary\n",
    "user = User(**user_dict)"
   ]
  },
  {
   "cell_type": "markdown",
   "metadata": {},
   "source": [
    "### Accessing Attributes of Pydantic Models\n",
    "- Access the attributes of the model using the dot notation."
   ]
  },
  {
   "cell_type": "code",
   "execution_count": 41,
   "metadata": {},
   "outputs": [
    {
     "name": "stdout",
     "output_type": "stream",
     "text": [
      "1\n",
      "John Doe\n",
      "john@gmail.com\n",
      "123456\n"
     ]
    }
   ],
   "source": [
    "print(user.id)\n",
    "print(user.name)\n",
    "print(user.email)\n",
    "print(user.password)"
   ]
  },
  {
   "cell_type": "markdown",
   "metadata": {},
   "source": [
    "## Type Annotations and Default Values\n",
    "- Pydantic uses Python type annotations to define the schema of the data.\n",
    "\n",
    "### Data Validation"
   ]
  },
  {
   "cell_type": "code",
   "execution_count": 42,
   "metadata": {},
   "outputs": [
    {
     "name": "stdout",
     "output_type": "stream",
     "text": [
      "id=1 name='John Doe' email='john@gmail.com' password='123456' bio='A Python developer'\n"
     ]
    }
   ],
   "source": [
    "# Default values\n",
    "class User(BaseModel):\n",
    "    id: int\n",
    "    name: str\n",
    "    email: str\n",
    "    password: str\n",
    "    # Default value for bio\n",
    "    bio: str = \"No bio available\"\n",
    "\n",
    "\n",
    "user = User(\n",
    "    id=1,\n",
    "    name=\"John Doe\",\n",
    "    email=\"john@gmail.com\",\n",
    "    password=\"123456\",\n",
    "    bio=\"A Python developer\",\n",
    ")\n",
    "\n",
    "print(user)"
   ]
  },
  {
   "cell_type": "markdown",
   "metadata": {},
   "source": [
    "### Type Annotations\n",
    "- Pydantic uses Python type annotations to define the schema of the data.\n",
    "- Pydantic enforces type hints at runtime, and provides user friendly errors when data is invalid.\n",
    "- Pydantic models can be used to validate data against the schema."
   ]
  },
  {
   "cell_type": "code",
   "execution_count": 54,
   "metadata": {},
   "outputs": [
    {
     "name": "stdout",
     "output_type": "stream",
     "text": [
      "id=1 name='John Doe' email='john@gmail.com' password='123456' bio='A Python developer' skills=['Python', 'Django'] age=25 middle_name=None hobbies=['Reading', 'Gaming'] friends=[1, 'Jane Doe']\n"
     ]
    }
   ],
   "source": [
    "from typing import Union, Optional, List\n",
    "\n",
    "\n",
    "class User(BaseModel):\n",
    "    id: int\n",
    "    name: str\n",
    "    email: str\n",
    "    password: str\n",
    "    bio: str = \"No bio available\"\n",
    "    # list of strings mandatory\n",
    "    skills: List[str] = []\n",
    "\n",
    "    # Optional is used to specify that the age field is not required\n",
    "    age: Optional[int] = None\n",
    "\n",
    "    # Union is used to specify that the middle_name can be either a string or None\n",
    "    middle_name: Union[str, None] = None\n",
    "\n",
    "    # list of strings optional, default value is None\n",
    "    hobbies: Optional[List[str]] = None\n",
    "\n",
    "    # list of union of strings and integers, default value is an empty list. can be either a string or an integer\n",
    "    friends: List[Union[str, int]] = []\n",
    "\n",
    "\n",
    "user = User(\n",
    "    id=1,\n",
    "    name=\"John Doe\",\n",
    "    email=\"john@gmail.com\",\n",
    "    password=\"123456\",\n",
    "    bio=\"A Python developer\",\n",
    "    skills=[\"Python\", \"Django\"],\n",
    "    age=25,\n",
    "    middle_name=None,\n",
    "    hobbies=[\"Reading\", \"Gaming\"],\n",
    "    friends=[1, \"Jane Doe\"],\n",
    ")\n",
    "\n",
    "print(user)"
   ]
  },
  {
   "cell_type": "markdown",
   "metadata": {},
   "source": [
    "## Nested Models\n",
    "- Pydantic models can be nested inside other models.\n",
    "- Nested models can be used to define the schema of the data."
   ]
  },
  {
   "cell_type": "code",
   "execution_count": 55,
   "metadata": {},
   "outputs": [
    {
     "name": "stdout",
     "output_type": "stream",
     "text": [
      "title='Hello, World!' content='This is the first post.' user=User(id=1, name='John Doe', email='john@gmail.com', password='123456', bio='A Python developer', skills=['Python', 'Django'], age=25, middle_name=None, hobbies=['Reading', 'Gaming'], friends=[1, 'Jane Doe'])\n"
     ]
    }
   ],
   "source": [
    "class Post(BaseModel):\n",
    "    title: str\n",
    "    content: str\n",
    "    user: User\n",
    "\n",
    "\n",
    "post = Post(\n",
    "    title=\"Hello, World!\",\n",
    "    content=\"This is the first post.\",\n",
    "    user=user,\n",
    ")\n",
    "\n",
    "print(post)"
   ]
  },
  {
   "cell_type": "markdown",
   "metadata": {},
   "source": [
    "## Data Validation"
   ]
  },
  {
   "cell_type": "code",
   "execution_count": 47,
   "metadata": {},
   "outputs": [],
   "source": [
    "# Type validation is performed when the object is created\n",
    "user = User(id=1, name=\"John Doe\", email=\"john@gmail.com\", password=\"123456\")"
   ]
  },
  {
   "cell_type": "markdown",
   "metadata": {},
   "source": [
    "### Built-in Validators\n",
    "- Pydantic provides built-in validators for common data types."
   ]
  },
  {
   "cell_type": "code",
   "execution_count": 48,
   "metadata": {},
   "outputs": [],
   "source": [
    "from pydantic import EmailStr\n",
    "\n",
    "\n",
    "class User(BaseModel):\n",
    "    id: int\n",
    "    name: str\n",
    "    email: EmailStr\n",
    "    password: str"
   ]
  },
  {
   "cell_type": "code",
   "execution_count": 51,
   "metadata": {},
   "outputs": [],
   "source": [
    "# EmailStr is a Pydantic data type that validates email addresses\n",
    "user = User(id=1, name=\"John Doe\", email=\"john@gmail.com\", password=\"123456\")"
   ]
  },
  {
   "cell_type": "code",
   "execution_count": 50,
   "metadata": {},
   "outputs": [
    {
     "name": "stdout",
     "output_type": "stream",
     "text": [
      "id=1 name='John Doe' email='john@gmail.com' password='123456'\n"
     ]
    }
   ],
   "source": [
    "user = User(id=1, name=\"John Doe\", email=\"john@gmail.com\", password=\"123456\")\n",
    "print(user)"
   ]
  },
  {
   "cell_type": "markdown",
   "metadata": {},
   "source": [
    "### Field Validators\n",
    "\n",
    "BeforeValidator: Validate the data before inner validators are applied.\n",
    "AfterValidator: Validate the data after inner validators are applied.\n",
    "Wrapvalidator: Wrap the data in a custom class before it is assigned to the field."
   ]
  },
  {
   "cell_type": "code",
   "execution_count": null,
   "metadata": {},
   "outputs": [
    {
     "ename": "TypeError",
     "evalue": "'BeforeValidator' object is not callable",
     "output_type": "error",
     "traceback": [
      "\u001b[0;31m---------------------------------------------------------------------------\u001b[0m",
      "\u001b[0;31mTypeError\u001b[0m                                 Traceback (most recent call last)",
      "Cell \u001b[0;32mIn[62], line 4\u001b[0m\n\u001b[1;32m      1\u001b[0m \u001b[38;5;28;01mfrom\u001b[39;00m \u001b[38;5;21;01mpydantic\u001b[39;00m \u001b[38;5;28;01mimport\u001b[39;00m BaseModel, BeforeValidator, AfterValidator, WrapValidator, EmailStr\n\u001b[0;32m----> 4\u001b[0m \u001b[38;5;28;01mclass\u001b[39;00m \u001b[38;5;21;01mUser\u001b[39;00m(BaseModel):\n\u001b[1;32m      5\u001b[0m     \u001b[38;5;28mid\u001b[39m: \u001b[38;5;28mint\u001b[39m\n\u001b[1;32m      6\u001b[0m     name: \u001b[38;5;28mstr\u001b[39m\n",
      "Cell \u001b[0;32mIn[62], line 13\u001b[0m, in \u001b[0;36mUser\u001b[0;34m()\u001b[0m\n\u001b[1;32m      8\u001b[0m password: \u001b[38;5;28mstr\u001b[39m\n\u001b[1;32m     10\u001b[0m \u001b[38;5;66;03m# 1. BeforeValidator: Runs FIRST, before any other validation\u001b[39;00m\n\u001b[1;32m     11\u001b[0m \u001b[38;5;66;03m# Good for cleaning/preprocessing data\u001b[39;00m\n\u001b[0;32m---> 13\u001b[0m \u001b[38;5;129m@BeforeValidator\u001b[39m(\u001b[38;5;124m\"\u001b[39m\u001b[38;5;124mname\u001b[39m\u001b[38;5;124m\"\u001b[39m)\n\u001b[1;32m     14\u001b[0m \u001b[38;5;28;01mdef\u001b[39;00m \u001b[38;5;21mclean_name_before\u001b[39m(\u001b[38;5;28mcls\u001b[39m, value):\n\u001b[1;32m     15\u001b[0m     \u001b[38;5;66;03m# remove leading and trailing whitespaces\u001b[39;00m\n\u001b[1;32m     16\u001b[0m     \u001b[38;5;28;01mreturn\u001b[39;00m value\u001b[38;5;241m.\u001b[39mstrip()\n\u001b[1;32m     18\u001b[0m \u001b[38;5;66;03m# 2. AfterValidator\u001b[39;00m\n\u001b[1;32m     19\u001b[0m \u001b[38;5;66;03m# Runs LAST, after all other validation. Good for final transformations\u001b[39;00m\n",
      "\u001b[0;31mTypeError\u001b[0m: 'BeforeValidator' object is not callable"
     ]
    }
   ],
   "source": [
    "from pydantic import BaseModel, BeforeValidator, AfterValidator, WrapValidator, EmailStr\n",
    "\n",
    "\n",
    "class User(BaseModel):\n",
    "    id: int\n",
    "    name: str\n",
    "    email: EmailStr\n",
    "    password: str\n",
    "\n",
    "    # 1. BeforeValidator: Runs FIRST, before any other validation\n",
    "    # Good for cleaning/preprocessing data\n",
    "\n",
    "    @BeforeValidator(\"name\")\n",
    "    def clean_name_before(cls, value):\n",
    "        # remove leading and trailing whitespaces\n",
    "        return value.strip()\n",
    "\n",
    "    # 2. AfterValidator\n",
    "    # Runs LAST, after all other validation. Good for final transformations\n",
    "    @AfterValidator(\"password\")\n",
    "    def hash_password(cls, value):\n",
    "        return hash(value)\n",
    "\n",
    "    # 3. WrapValidator: Wraps the entire validation process. Good for logging/debugging\n",
    "    @WrapValidator(\"email\")\n",
    "    def validate_email(cls, value):\n",
    "        print(f\"Validating email: {value}\")\n",
    "        return value\n",
    "\n",
    "\n",
    "user = User(id=1, name=\"John Doe\", email=\"john@gmail.com\", password=\"123456\")\n",
    "\n",
    "print(user)"
   ]
  },
  {
   "cell_type": "code",
   "execution_count": 63,
   "metadata": {},
   "outputs": [
    {
     "name": "stdout",
     "output_type": "stream",
     "text": [
      "id=1 name='John Doe' email='john@gmail.com' password='123456' bio='No bio available' skills=[] age=None middle_name=None hobbies=None friends=[]\n"
     ]
    }
   ],
   "source": [
    "user = User(id=1, name=\" John Doe \", email=\"john@gmail.com\", password=\"123456\")\n",
    "print(user)"
   ]
  },
  {
   "cell_type": "code",
   "execution_count": null,
   "metadata": {},
   "outputs": [],
   "source": []
  }
 ],
 "metadata": {
  "kernelspec": {
   "display_name": "yt312",
   "language": "python",
   "name": "python3"
  },
  "language_info": {
   "codemirror_mode": {
    "name": "ipython",
    "version": 3
   },
   "file_extension": ".py",
   "mimetype": "text/x-python",
   "name": "python",
   "nbconvert_exporter": "python",
   "pygments_lexer": "ipython3",
   "version": "3.12.7"
  }
 },
 "nbformat": 4,
 "nbformat_minor": 2
}
