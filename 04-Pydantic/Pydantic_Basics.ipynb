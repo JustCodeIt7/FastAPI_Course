{
 "cells": [
  {
   "cell_type": "markdown",
   "metadata": {},
   "source": [
    "# Pydantic Basics\n",
    "\n",
    "- Pydantic is a data validation and settings management using Python type annotations.\n",
    "- Pydantic enforces type hints at runtime, and provides user friendly errors when data is invalid.\n",
    "- Using Pydantic models to define the schema of the data, and then validate the data against it.\n",
    "\n",
    "Benefits of Pydantic:\n",
    "- IDE autocompletion and type hinting.\n",
    "- Data validation\n",
    "- JSON serialization"
   ]
  },
  {
   "cell_type": "code",
   "execution_count": 1,
   "metadata": {},
   "outputs": [],
   "source": [
    "from pydantic import BaseModel\n",
    "\n",
    "\n",
    "class User(BaseModel):\n",
    "    id: int\n",
    "    name: str\n",
    "    email: str\n",
    "    password: str"
   ]
  },
  {
   "cell_type": "markdown",
   "metadata": {},
   "source": [
    "### Creating Instances of Pydantic Models\n",
    "- Get auto-completion with the model's attributes."
   ]
  },
  {
   "cell_type": "code",
   "execution_count": 2,
   "metadata": {},
   "outputs": [],
   "source": [
    "# Initialize the User class with input values\n",
    "user = User(id=1, name=\"John Doe\", email=\"hi@gmail.com\", password=\"secret\")\n",
    "\n",
    "# user object is now a dictionary\n",
    "user_dict = {\"id\": 1, \"name\": \"John Doe\", \"email\": \"john@gmail.com\", \"password\": \"123456\"}\n",
    "\n",
    "# Create a User object from a dictionary using the ** operator to unpack the dictionary\n",
    "user = User(**user_dict)"
   ]
  },
  {
   "cell_type": "markdown",
   "metadata": {},
   "source": [
    "### Accessing Attributes of Pydantic Models\n",
    "- Access the attributes of the model using the dot notation."
   ]
  },
  {
   "cell_type": "code",
   "execution_count": 3,
   "metadata": {},
   "outputs": [
    {
     "name": "stdout",
     "output_type": "stream",
     "text": [
      "1\n",
      "John Doe\n",
      "john@gmail.com\n",
      "123456\n"
     ]
    }
   ],
   "source": [
    "print(user.id)\n",
    "print(user.name)\n",
    "print(user.email)\n",
    "print(user.password)"
   ]
  },
  {
   "cell_type": "markdown",
   "metadata": {},
   "source": [
    "## Type Annotations and Default Values\n",
    "- Pydantic uses Python type annotations to define the schema of the data.\n",
    "\n",
    "### Data Validation"
   ]
  },
  {
   "cell_type": "code",
   "execution_count": 4,
   "metadata": {},
   "outputs": [
    {
     "name": "stdout",
     "output_type": "stream",
     "text": [
      "id=1 name='John Doe' email='john@gmail.com' password='123456' bio='A Python developer'\n"
     ]
    }
   ],
   "source": [
    "# Default values\n",
    "class User(BaseModel):\n",
    "    id: int\n",
    "    name: str\n",
    "    email: str\n",
    "    password: str\n",
    "    # Default value for bio\n",
    "    bio: str = \"No bio available\"\n",
    "\n",
    "\n",
    "user = User(\n",
    "    id=1,\n",
    "    name=\"John Doe\",\n",
    "    email=\"john@gmail.com\",\n",
    "    password=\"123456\",\n",
    "    bio=\"A Python developer\",\n",
    ")\n",
    "\n",
    "print(user)"
   ]
  },
  {
   "cell_type": "markdown",
   "metadata": {},
   "source": [
    "### Type Annotations\n",
    "- Pydantic uses Python type annotations to define the schema of the data.\n",
    "- Pydantic enforces type hints at runtime, and provides user friendly errors when data is invalid.\n",
    "- Pydantic models can be used to validate data against the schema."
   ]
  },
  {
   "cell_type": "code",
   "execution_count": 5,
   "metadata": {},
   "outputs": [
    {
     "name": "stdout",
     "output_type": "stream",
     "text": [
      "id=1 name='John Doe' email='john@gmail.com' password='123456' bio='A Python developer' skills=['Python', 'Django'] age=25 middle_name=None hobbies=['Reading', 'Gaming'] friends=[1, 'Jane Doe']\n"
     ]
    }
   ],
   "source": [
    "from typing import Union, Optional, List\n",
    "\n",
    "\n",
    "class User(BaseModel):\n",
    "    id: int\n",
    "    name: str\n",
    "    email: str\n",
    "    password: str\n",
    "    bio: str = \"No bio available\"\n",
    "    # list of strings mandatory\n",
    "    skills: List[str] = []\n",
    "\n",
    "    # Optional is used to specify that the age field is not required\n",
    "    age: Optional[int] = None\n",
    "\n",
    "    # Union is used to specify that the middle_name can be either a string or None\n",
    "    middle_name: Union[str, None] = None\n",
    "\n",
    "    # list of strings optional, default value is None\n",
    "    hobbies: Optional[List[str]] = None\n",
    "\n",
    "    # list of union of strings and integers, default value is an empty list. can be either a string or an integer\n",
    "    friends: List[Union[str, int]] = []\n",
    "\n",
    "\n",
    "user = User(\n",
    "    id=1,\n",
    "    name=\"John Doe\",\n",
    "    email=\"john@gmail.com\",\n",
    "    password=\"123456\",\n",
    "    bio=\"A Python developer\",\n",
    "    skills=[\"Python\", \"Django\"],\n",
    "    age=25,\n",
    "    middle_name=None,\n",
    "    hobbies=[\"Reading\", \"Gaming\"],\n",
    "    friends=[1, \"Jane Doe\"],\n",
    ")\n",
    "\n",
    "print(user)"
   ]
  },
  {
   "cell_type": "markdown",
   "metadata": {},
   "source": [
    "## Nested Models\n",
    "- Pydantic models can be nested inside other models.\n",
    "- Nested models can be used to define the schema of the data."
   ]
  },
  {
   "cell_type": "code",
   "execution_count": 6,
   "metadata": {},
   "outputs": [
    {
     "name": "stdout",
     "output_type": "stream",
     "text": [
      "title='Hello, World!' content='This is the first post.' user=User(id=1, name='John Doe', email='john@gmail.com', password='123456', bio='A Python developer', skills=['Python', 'Django'], age=25, middle_name=None, hobbies=['Reading', 'Gaming'], friends=[1, 'Jane Doe'])\n"
     ]
    }
   ],
   "source": [
    "class Post(BaseModel):\n",
    "    title: str\n",
    "    content: str\n",
    "    user: User\n",
    "\n",
    "\n",
    "post = Post(\n",
    "    title=\"Hello, World!\",\n",
    "    content=\"This is the first post.\",\n",
    "    user=user,\n",
    ")\n",
    "\n",
    "print(post)"
   ]
  },
  {
   "cell_type": "markdown",
   "metadata": {},
   "source": [
    "## Data Validation"
   ]
  },
  {
   "cell_type": "code",
   "execution_count": 7,
   "metadata": {},
   "outputs": [],
   "source": [
    "# Type validation is performed when the object is created\n",
    "user = User(id=1, name=\"John Doe\", email=\"john@gmail.com\", password=\"123456\")"
   ]
  },
  {
   "cell_type": "markdown",
   "metadata": {},
   "source": [
    "### Built-in Validators\n",
    "- Pydantic provides built-in validators for common data types."
   ]
  },
  {
   "cell_type": "code",
   "execution_count": 8,
   "metadata": {},
   "outputs": [
    {
     "name": "stdout",
     "output_type": "stream",
     "text": [
      "id=1 name='John Doe' email='john@gmail.com' password='123456'\n"
     ]
    }
   ],
   "source": [
    "from pydantic import EmailStr\n",
    "\n",
    "\n",
    "class User(BaseModel):\n",
    "    id: int\n",
    "    name: str\n",
    "    email: EmailStr\n",
    "    password: str\n",
    "\n",
    "\n",
    "# EmailStr is a Pydantic data type that validates email addresses\n",
    "user = User(id=1, name=\"John Doe\", email=\"john@gmail.com\", password=\"123456\")\n",
    "print(user)"
   ]
  },
  {
   "cell_type": "code",
   "execution_count": 9,
   "metadata": {},
   "outputs": [
    {
     "name": "stdout",
     "output_type": "stream",
     "text": [
      "id=1 name='John Doe' email='john@gmail.com' password='123456'\n"
     ]
    }
   ],
   "source": [
    "# user = User(id=1, name=\"John Doe\", email=\"johngmail.com\", password=\"123456\")\n",
    "print(user)"
   ]
  },
  {
   "cell_type": "markdown",
   "metadata": {},
   "source": [
    "### Field Validators\n",
    "\n",
    "- BeforeValidator: Validate the data before inner validators are applied.\n",
    "- AfterValidator: Validate the data after inner validators are applied.\n",
    "- Wrapvalidator: Wrap the data in a custom class before it is assigned to the field."
   ]
  },
  {
   "cell_type": "code",
   "execution_count": 5,
   "metadata": {},
   "outputs": [
    {
     "name": "stdout",
     "output_type": "stream",
     "text": [
      "Cleaning name:   John Doe  \n",
      "Validating email: john@example.com\n",
      "Hashing password: secret123\n",
      "id=1 name='John Doe' email='john@example.com' password=2398555695433270205\n"
     ]
    }
   ],
   "source": [
    "from typing import Annotated\n",
    "from pydantic import BaseModel, BeforeValidator, AfterValidator, WrapValidator, EmailStr\n",
    "\n",
    "\n",
    "# Define the validation functions\n",
    "def clean_name(value: str) -> str:\n",
    "    print(f\"Cleaning name: {value}\")\n",
    "    return value.strip()\n",
    "\n",
    "\n",
    "def hash_password(value: str) -> int:\n",
    "    print(f\"Hashing password: {value}\")\n",
    "    return hash(value)\n",
    "\n",
    "\n",
    "def log_email(value: str, handler) -> str:\n",
    "    print(f\"Validating email: {value}\")\n",
    "    return handler(value)\n",
    "\n",
    "\n",
    "class User(BaseModel):\n",
    "    id: int\n",
    "    # Annotated is used to apply validators to fields in Pydantic models\n",
    "    # Apply BeforeValidator using Annotated\n",
    "    name: Annotated[str, BeforeValidator(clean_name)]\n",
    "\n",
    "    # Apply WrapValidator using Annotated\n",
    "    email: Annotated[EmailStr, WrapValidator(log_email)]\n",
    "\n",
    "    # Apply AfterValidator using Annotated\n",
    "    password: Annotated[str, AfterValidator(hash_password)]\n",
    "\n",
    "\n",
    "user = User(id=1, name=\"  John Doe  \", email=\"john@example.com\", password=\"secret123\")\n",
    "\n",
    "print(user)"
   ]
  },
  {
   "cell_type": "code",
   "execution_count": 8,
   "metadata": {},
   "outputs": [
    {
     "name": "stdout",
     "output_type": "stream",
     "text": [
      "Cleaning name:  John Doe \n",
      "Validating email: john@gmail.com\n",
      "Hashing password: 123456\n",
      "id=1 name='John Doe' email='john@gmail.com' password=5268750335886593586\n"
     ]
    }
   ],
   "source": [
    "user = User(id=1, name=\" John Doe \", email=\"john@gmail.com\", password=\"123456\")\n",
    "print(user)"
   ]
  },
  {
   "cell_type": "code",
   "execution_count": null,
   "metadata": {},
   "outputs": [],
   "source": []
  },
  {
   "cell_type": "code",
   "execution_count": null,
   "metadata": {},
   "outputs": [],
   "source": []
  }
 ],
 "metadata": {
  "kernelspec": {
   "display_name": "yt312",
   "language": "python",
   "name": "python3"
  },
  "language_info": {
   "codemirror_mode": {
    "name": "ipython",
    "version": 3
   },
   "file_extension": ".py",
   "mimetype": "text/x-python",
   "name": "python",
   "nbconvert_exporter": "python",
   "pygments_lexer": "ipython3",
   "version": "3.12.7"
  }
 },
 "nbformat": 4,
 "nbformat_minor": 2
}
