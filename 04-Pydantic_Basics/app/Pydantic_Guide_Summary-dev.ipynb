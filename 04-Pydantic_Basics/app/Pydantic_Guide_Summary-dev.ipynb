{
 "cells": [
  {
   "cell_type": "markdown",
   "id": "9becf1f3",
   "metadata": {},
   "source": [
    "## What is Pydantic?\n",
    "\n",
    "- **Definition:**\n",
    "  - Pydantic extends Python's dataclasses with additional features:\n",
    "    - **Validation:** Ensures data meets specified criteria.\n",
    "    - **Serialization:** Converts data into formats suitable for other applications.\n",
    "    - **Data Transformation:** Alters data shapes as needed.\n",
    "\n",
    "- **Use Cases:**\n",
    "  - Validating incoming data.\n",
    "  - Transforming data structures.\n",
    "  - Preparing data for serialization and transmission.\n",
    "---\n",
    "## A Really Basic Example\n",
    "\n",
    "- **Objective:**\n",
    "  - Ensure a function receives both `first_name` and `last_name` as strings.\n"
   ]
  },
  {
   "cell_type": "code",
   "execution_count": null,
   "id": "290afb70",
   "metadata": {},
   "outputs": [],
   "source": [
    "from pydantic import BaseModel\n",
    "\n",
    "class MyFirstModel(BaseModel):\n",
    "    first_name: str\n",
    "    last_name: str\n",
    "\n",
    "validating = MyFirstModel(first_name=\"marc\", last_name=\"nealer\")\n",
    "print(validating)"
   ]
  },
  {
   "cell_type": "markdown",
   "id": "efb7cdab",
   "metadata": {},
   "source": [
    "- **Key Points:**\n",
    "  - Pydantic models resemble Python dataclasses.\n",
    "  - Unlike dataclasses, Pydantic enforces type validation and raises errors for mismatches.\n",
    "  - **Default Validation:** Type checking is performed automatically."
   ]
  },
  {
   "cell_type": "markdown",
   "id": "c0e5ee9e",
   "metadata": {},
   "source": [
    "---\n",
    "## Handling Optional Parameters\n",
    "\n",
    "- **Challenge:**\n",
    "  - Managing optional fields with expected typing behaviors.\n"
   ]
  },
  {
   "cell_type": "code",
   "execution_count": null,
   "id": "66ad2400",
   "metadata": {},
   "outputs": [],
   "source": [
    "from pydantic import BaseModel\n",
    "from typing import Union, Optional\n",
    "\n",
    "class MySecondModel(BaseModel):\n",
    "    first_name: str\n",
    "    middle_name: Union[str, None]  # Parameter is optional\n",
    "    title: Optional[str]           # Parameter must be sent but can be None\n",
    "    last_name: str"
   ]
  },
  {
   "cell_type": "markdown",
   "id": "baa58162",
   "metadata": {},
   "source": [
    "- **Explanation:**\n",
    "  - **`Union[str, None]`:** Field is optional; it can be omitted.\n",
    "  - **`Optional[str]`:** Field is required but can be `None`.\n",
    "  - Pydantic leverages Python's `typing` library for comprehensive type validations.\n",
    "\n",
    "- **Advanced Types Example:**"
   ]
  },
  {
   "cell_type": "code",
   "execution_count": null,
   "id": "b606d5e1",
   "metadata": {},
   "outputs": [],
   "source": [
    "from pydantic import BaseModel\n",
    "from typing import Union, List, Dict\n",
    "from datetime import datetime\n",
    "\n",
    "class MyThirdModel(BaseModel):\n",
    "    name: Dict[str, str]\n",
    "    skills: List[str]\n",
    "    holidays: List[Union[str, datetime]]"
   ]
  },
  {
   "cell_type": "markdown",
   "id": "95c4de2d",
   "metadata": {},
   "source": [
    "---\n",
    "## Applying Default Values\n",
    "\n",
    "- **Scenario:**\n",
    "  - Assign default values to fields when data is missing.\n",
    "\n",
    "- **Initial Approach:**"
   ]
  },
  {
   "cell_type": "code",
   "execution_count": null,
   "id": "51fbfa2e",
   "metadata": {},
   "outputs": [],
   "source": [
    "from pydantic import BaseModel\n",
    "\n",
    "class DefaultsModel(BaseModel):\n",
    "    first_name: str = \"jane\"\n",
    "    middle_names: list = []\n",
    "    last_name : str = \"doe\""
   ]
  },
  {
   "cell_type": "markdown",
   "id": "a506f9bf",
   "metadata": {},
   "source": [
    "- **Issue:**\n",
    "  - Mutable default values (like lists) are shared across all instances, leading to unintended side effects.\n",
    "\n",
    "- **Solution: Use `Field` with `default_factory`:"
   ]
  },
  {
   "cell_type": "code",
   "execution_count": null,
   "id": "55637ecd",
   "metadata": {},
   "outputs": [],
   "source": [
    "from pydantic import BaseModel, Field\n",
    "\n",
    "class DefaultsModel(BaseModel):\n",
    "    first_name: str = \"jane\"\n",
    "    middle_names: list = Field(default_factory=list)\n",
    "    last_name: str = \"doe\""
   ]
  },
  {
   "cell_type": "markdown",
   "id": "7e724f68",
   "metadata": {},
   "source": [
    "- **Benefits:**\n",
    "  - Ensures each instance gets its own separate list.\n",
    "  - Prevents shared mutable defaults.\n",
    "\n",
    "- **Note on `Field`:**\n",
    "  - Versatile but can complicate models if overused.\n",
    "  - Recommended primarily for defaults and default factories."
   ]
  },
  {
   "cell_type": "markdown",
   "id": "d40a209f",
   "metadata": {},
   "source": [
    "---\n",
    "## Nesting Models\n",
    "\n",
    "- **Purpose:**\n",
    "  - Organize complex data structures by embedding models within models.\n",
    "\n",
    "- **Code Example:**"
   ]
  },
  {
   "cell_type": "code",
   "execution_count": null,
   "id": "08b16078",
   "metadata": {},
   "outputs": [],
   "source": [
    "from pydantic import BaseModel\n",
    "\n",
    "class NameModel(BaseModel):\n",
    "    first_name: str\n",
    "    last_name: str\n",
    "\n",
    "class UserModel(BaseModel):\n",
    "    username: str\n",
    "    name: NameModel"
   ]
  },
  {
   "cell_type": "markdown",
   "id": "00410057",
   "metadata": {},
   "source": [
    "- **Advantages:**\n",
    "  - Promotes modularity and reusability.\n",
    "  - Simplifies validation of nested data structures."
   ]
  },
  {
   "cell_type": "markdown",
   "id": "dda303f0",
   "metadata": {},
   "source": [
    "---\n",
    "## Custom Validation\n",
    "\n",
    "- **Need for Custom Validation:**\n",
    "  - Beyond basic type checks, additional constraints are often required.\n",
    "\n",
    "- **Types of Custom Validators:**\n",
    "  - **Before Validators:** Modify or validate data before default validation.\n",
    "  - **After Validators:** Perform checks after default validation.\n",
    "  - **Wrap Validators:** Act like middleware, handling actions before and after.\n",
    "\n",
    "- **Default Validation Context:**\n",
    "  - **Field-Level:** Validates individual fields.\n",
    "  - **Model-Level:** Validates the entire model, allowing inter-field dependencies.\n",
    "\n",
    "### Field Validation\n",
    "\n",
    "- **Approach:**\n",
    "  - Utilize decorators to define validation functions for specific fields.\n",
    "  - Prefer `Annotated` validators for clarity and maintainability.\n",
    "\n",
    "- **Code Example:**"
   ]
  },
  {
   "cell_type": "code",
   "execution_count": null,
   "id": "0bc3adf4",
   "metadata": {},
   "outputs": [],
   "source": [
    "from pydantic import BaseModel, BeforeValidator, ValidationError\n",
    "from typing import Annotated\n",
    "import datetime\n",
    "\n",
    "def stamp2date(value):\n",
    "    if not isinstance(value, float):\n",
    "        raise ValidationError(\"Incoming date must be a timestamp\")\n",
    "    try:\n",
    "        res = datetime.datetime.fromtimestamp(value)\n",
    "    except ValueError:\n",
    "        raise ValidationError(\"Timestamp appears to be invalid\")\n",
    "    return res\n",
    "\n",
    "class DateModel(BaseModel):\n",
    "    dob: Annotated[datetime.datetime, BeforeValidator(stamp2date)]"
   ]
  },
  {
   "cell_type": "markdown",
   "id": "f2bb3947",
   "metadata": {},
   "source": [
    "- **Explanation:**\n",
    "  - **`BeforeValidator`:** Transforms a timestamp (float) into a `datetime` object before default validation.\n",
    "  - Ensures that the `dob` field receives a valid `datetime` object.\n",
    "\n",
    "- **Multiple Validators Example:**"
   ]
  },
  {
   "cell_type": "code",
   "execution_count": null,
   "id": "3fedd50f",
   "metadata": {},
   "outputs": [],
   "source": [
    "from pydantic import BaseModel, BeforeValidator, AfterValidator, ValidationError\n",
    "from typing import Annotated\n",
    "import datetime\n",
    "\n",
    "def one_year(value):\n",
    "    if value < datetime.datetime.today() - datetime.timedelta(days=365):\n",
    "        raise ValidationError(\"The date must be less than a year old\")\n",
    "    return value\n",
    "\n",
    "def stamp2date(value):\n",
    "    if not isinstance(value, float):\n",
    "        raise ValidationError(\"Incoming date must be a timestamp\")\n",
    "    try:\n",
    "        res = datetime.datetime.fromtimestamp(value)\n",
    "    except ValueError:\n",
    "        raise ValidationError(\"Timestamp appears to be invalid\")\n",
    "    return res\n",
    "\n",
    "class DateModel(BaseModel):\n",
    "    dob: Annotated[datetime.datetime, BeforeValidator(stamp2date), AfterValidator(one_year)]"
   ]
  },
  {
   "cell_type": "markdown",
   "id": "61647464",
   "metadata": {},
   "source": [
    "- **Usage Insights:**\n",
    "  - **`BeforeValidator`:** Ideal for data transformation and preliminary checks.\n",
    "  - **`AfterValidator`:** Suitable for additional constraints post-transformation.\n",
    "  - **`WrapValidator`:** Not extensively covered; author seeks community input on use cases.\n",
    "\n",
    "- **Handling Optional Fields with Validators:**"
   ]
  },
  {
   "cell_type": "code",
   "execution_count": null,
   "id": "a322ba90",
   "metadata": {},
   "outputs": [],
   "source": [
    "from pydantic import BaseModel, BeforeValidator, ValidationError, Field\n",
    "from typing import Annotated\n",
    "import datetime\n",
    "\n",
    "def stamp2date(value):\n",
    "    if not isinstance(value, float):\n",
    "        raise ValidationError(\"Incoming date must be a timestamp\")\n",
    "    try:\n",
    "        res = datetime.datetime.fromtimestamp(value)\n",
    "    except ValueError:\n",
    "        raise ValidationError(\"Timestamp appears to be invalid\")\n",
    "    return res\n",
    "\n",
    "class DateModel(BaseModel):\n",
    "    dob: Annotated[Annotated[datetime.datetime, BeforeValidator(stamp2date)] | None, Field(default=None)]"
   ]
  },
  {
   "cell_type": "markdown",
   "id": "a9219759",
   "metadata": {},
   "source": [
    "- **Key Points:**\n",
    "  - Combines `BeforeValidator` with `Optional` typing.\n",
    "  - Allows `dob` to be omitted or set to `None`, while still enabling transformation when provided."
   ]
  },
  {
   "cell_type": "markdown",
   "id": "3f4b1d5f",
   "metadata": {},
   "source": [
    "### Model Validation\n",
    "\n",
    "- **Scenario:**\n",
    "  - Ensuring at least one out of multiple optional fields is provided.\n",
    "\n",
    "- **Code Example:**"
   ]
  },
  {
   "cell_type": "code",
   "execution_count": null,
   "id": "56381de9",
   "metadata": {},
   "outputs": [],
   "source": [
    "from pydantic import BaseModel, model_validator, ValidationError\n",
    "from typing import Union, Any\n",
    "\n",
    "class AllOptionalAfterModel(BaseModel):\n",
    "    param1: Union[str, None] = None\n",
    "    param2: Union[str, None] = None\n",
    "    param3: Union[str, None] = None\n",
    "\n",
    "    @model_validator(mode=\"after\")\n",
    "    def there_must_be_one(self):\n",
    "        if not (self.param1 or self.param2 or self.param3):\n",
    "            raise ValidationError(\"One parameter must be specified\")\n",
    "        return self\n",
    "\n",
    "class AllOptionalBeforeModel(BaseModel):\n",
    "    param1: Union[str, None] = None\n",
    "    param2: Union[str, None] = None\n",
    "    param3: Union[str, None] = None\n",
    "\n",
    "    @model_validator(mode=\"before\")\n",
    "    @classmethod\n",
    "    def there_must_be_one(cls, data: Any):\n",
    "        if not (data.get(\"param1\") or data.get(\"param2\") or data.get(\"param3\")):\n",
    "            raise ValidationError(\"One parameter must be specified\")\n",
    "        return data"
   ]
  },
  {
   "cell_type": "markdown",
   "id": "f7c8037f",
   "metadata": {},
   "source": [
    "- **Explanation:**\n",
    "  - **After Validation (`AllOptionalAfterModel`):**\n",
    "    - Decorated method runs after model initialization.\n",
    "    - Accesses fields via `self`.\n",
    "  - **Before Validation (`AllOptionalBeforeModel`):**\n",
    "    - Decorated method runs before model initialization.\n",
    "    - Accesses raw input data (typically a dictionary).\n",
    "    - Must return the (possibly modified) data.\n",
    "\n",
    "- **Important Notes:**\n",
    "  - **Decorator Order:** `@model_validator(mode=\"before\")` must precede `@classmethod`.\n",
    "  - **Error Handling:** Properly structured decorators prevent unexpected errors.\n",
    "  - **Data Modification:** Before validators can alter input data before validation."
   ]
  },
  {
   "cell_type": "markdown",
   "id": "f42362a5",
   "metadata": {},
   "source": [
    "---\n",
    "## Aliases in Pydantic\n",
    "\n",
    "- **Purpose:**\n",
    "  - Handle discrepancies between incoming data field names and model field names.\n",
    "  - Facilitate data transformation during validation and serialization.\n",
    "\n",
    "- **Types of Aliases:**\n",
    "  - **Validation Aliases:** Incoming data has different field names than the model.\n",
    "  - **Serialization Aliases:** Change field names when outputting serialized data.\n",
    "\n",
    "- **Common Issue:**\n",
    "  - Combining defaults with field-level aliases using `Field()` can be problematic.\n",
    "\n",
    "- **Solution: Define Aliases at the Model Level:**"
   ]
  },
  {
   "cell_type": "code",
   "execution_count": null,
   "id": "2660e034",
   "metadata": {},
   "outputs": [],
   "source": [
    "from pydantic import AliasGenerator, BaseModel, ConfigDict\n",
    "\n",
    "class Tree(BaseModel):\n",
    "    model_config = ConfigDict(\n",
    "        alias_generator=AliasGenerator(\n",
    "            validation_alias=lambda field_name: field_name.upper(),\n",
    "            serialization_alias=lambda field_name: field_name.title(),\n",
    "        )\n",
    "    )\n",
    "    age: int\n",
    "    height: float\n",
    "    kind: str\n",
    "\n",
    "# Usage\n",
    "\n",
    "t = Tree.model_validate({'AGE': 12, 'HEIGHT': 1.2, 'KIND': 'oak'})\n",
    "print(t.model_dump(by_alias=True))  # Output: {'Age': 12, 'Height': 1.2, 'Kind': 'oak'}"
   ]
  },
  {
   "cell_type": "markdown",
   "id": "6f65b7d7",
   "metadata": {},
   "source": [
    "- **Key Points:**\n",
    "  - **Alias Generation:** Uses lambdas to transform field names during validation and serialization.\n",
    "  - **Serialization Control:** `model_dump(by_alias=True)` ensures output uses serialization aliases."
   ]
  },
  {
   "cell_type": "markdown",
   "id": "371c43c2",
   "metadata": {},
   "source": [
    "### AliasChoices\n",
    "\n",
    "- **Use Case:**\n",
    "  - Handle multiple possible incoming field names for the same model field.\n",
    "\n",
    "- **Code Example:**"
   ]
  },
  {
   "cell_type": "code",
   "execution_count": null,
   "id": "f5f115ad",
   "metadata": {},
   "outputs": [],
   "source": [
    "from pydantic import BaseModel, ConfigDict, AliasGenerator, AliasChoices\n",
    "from typing import Union\n",
    "\n",
    "aliases = {\n",
    "    \"first_name\": AliasChoices(\"fname\", \"surname\", \"forename\", \"first_name\"),\n",
    "    \"last_name\": AliasChoices(\"lname\", \"family_name\", \"last_name\")\n",
    "}\n",
    "\n",
    "class FirstNameChoices(BaseModel):\n",
    "    model_config = ConfigDict(\n",
    "        alias_generator=AliasGenerator(\n",
    "            validation_alias=lambda field_name: aliases.get(field_name, None)\n",
    "        )\n",
    "    )\n",
    "    title: str\n",
    "    first_name: str\n",
    "    last_name: str"
   ]
  },
  {
   "cell_type": "markdown",
   "id": "452ead2e",
   "metadata": {},
   "source": [
    "- **Explanation:**\n",
    "  - **`AliasChoices`:** Specifies multiple possible names for a single field during validation.\n",
    "  - **Inclusion of Actual Field Name:** Ensures compatibility when serializing and deserializing.\n",
    "\n",
    "- **Practical Implications:**\n",
    "  - Facilitates integration with diverse data sources where field naming conventions vary.\n",
    "  - Simplifies data ingestion by accommodating various naming schemas."
   ]
  },
  {
   "cell_type": "markdown",
   "id": "bcb728ce",
   "metadata": {},
   "source": [
    "### AliasPath\n",
    "\n",
    "- **Use Case:**\n",
    "  - Extract field values from nested dictionaries or lists within incoming data.\n",
    "\n",
    "- **Code Example:**"
   ]
  },
  {
   "cell_type": "code",
   "execution_count": null,
   "id": "e18d9b31",
   "metadata": {},
   "outputs": [],
   "source": [
    "from pydantic import BaseModel, ConfigDict, AliasGenerator, AliasPath\n",
    "\n",
    "aliases = {\n",
    "    \"first_name\": AliasPath(\"name\", \"first_name\"),\n",
    "    \"last_name\": AliasPath(\"name\", \"last_name\")\n",
    "}\n",
    "\n",
    "class FirstNameChoices(BaseModel):\n",
    "    model_config = ConfigDict(\n",
    "        alias_generator=AliasGenerator(\n",
    "            validation_alias=lambda field_name: aliases.get(field_name, None)\n",
    "        )\n",
    "    )\n",
    "    title: str\n",
    "    first_name: str\n",
    "    last_name: str\n",
    "\n",
    "# Usage\n",
    "\n",
    "obj = FirstNameChoices(**{\n",
    "    \"name\": {\"first_name\": \"marc\", \"last_name\": \"Nealer\"},\n",
    "    \"title\": \"Master Of All\"\n",
    "})\n",
    "print(obj)"
   ]
  },
  {
   "cell_type": "markdown",
   "id": "a5a4d1e3",
   "metadata": {},
   "source": [
    "- **Explanation:**\n",
    "  - **`AliasPath`:** Specifies the path to nested fields within the incoming data.\n",
    "  - **Flattening Data:** Extracts `first_name` and `last_name` from the nested `name` dictionary, presenting them at the model's top level.\n",
    "\n",
    "- **Benefits:**\n",
    "  - Streamlines data models by abstracting nested structures.\n",
    "  - Enhances readability and usability of models by flattening complex data."
   ]
  },
  {
   "cell_type": "markdown",
   "id": "465c8548",
   "metadata": {},
   "source": [
    "### Combining AliasChoices and AliasPath\n",
    "\n",
    "- **Objective:**\n",
    "  - Leverage both `AliasChoices` and `AliasPath` for flexible and robust data handling.\n",
    "\n",
    "- **Code Example:**"
   ]
  },
  {
   "cell_type": "code",
   "execution_count": null,
   "id": "49fe1c8a",
   "metadata": {},
   "outputs": [],
   "source": [
    "from pydantic import BaseModel, ConfigDict, AliasGenerator, AliasPath, AliasChoices\n",
    "\n",
    "aliases = {\n",
    "    \"first_name\": AliasChoices(\"first_name\", AliasPath(\"name\", \"first_name\")),\n",
    "    \"last_name\": AliasChoices(\"last_name\", AliasPath(\"name\", \"last_name\"))\n",
    "}\n",
    "\n",
    "class FirstNameChoices(BaseModel):\n",
    "    model_config = ConfigDict(\n",
    "        alias_generator=AliasGenerator(\n",
    "            validation_alias=lambda field_name: aliases.get(field_name, None)\n",
    "        )\n",
    "    )\n",
    "    title: str\n",
    "    first_name: str\n",
    "    last_name: str\n",
    "\n",
    "# Usage\n",
    "\n",
    "obj = FirstNameChoices(**{\n",
    "    \"name\": {\"first_name\": \"marc\", \"last_name\": \"Nealer\"},\n",
    "    \"title\": \"Master Of All\"\n",
    "})\n",
    "print(obj)"
   ]
  },
  {
   "cell_type": "markdown",
   "id": "a3f1c34c",
   "metadata": {},
   "source": [
    "- **Explanation:**\n",
    "  - **Combined Aliases:** Allows `first_name` and `last_name` to be sourced either directly or from a nested `name` dictionary.\n",
    "  - **Enhanced Flexibility:** Supports multiple data formats and sources seamlessly."
   ]
  },
  {
   "metadata": {},
   "cell_type": "code",
   "outputs": [],
   "execution_count": null,
   "source": "",
   "id": "200df5b678fc367d"
  }
 ],
 "metadata": {},
 "nbformat": 4,
 "nbformat_minor": 5
}
