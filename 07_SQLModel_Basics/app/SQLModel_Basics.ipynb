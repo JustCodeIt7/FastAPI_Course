{
 "cells": [
  {
   "cell_type": "code",
   "id": "initial_id",
   "metadata": {
    "collapsed": true,
    "ExecuteTime": {
     "end_time": "2024-12-17T22:44:19.285516Z",
     "start_time": "2024-12-17T22:44:19.093984Z"
    }
   },
   "source": [
    "# %%\n",
    "from sqlmodel import SQLModel, Field\n",
    "\n",
    "\n",
    "# %%\n",
    "\n",
    "\n",
    "class User(SQLModel, table=True):\n",
    "    username: str = Field(primary_key=True)\n",
    "    email: str\n",
    "    full_name: str\n",
    "    bio: str = None\n",
    "    hashed_password: str\n",
    "    is_active: bool = True\n",
    "\n"
   ],
   "outputs": [],
   "execution_count": 1
  },
  {
   "metadata": {
    "ExecuteTime": {
     "end_time": "2024-12-17T22:44:32.825882Z",
     "start_time": "2024-12-17T22:44:32.499896Z"
    }
   },
   "cell_type": "code",
   "source": "!alembic init migrations",
   "id": "83981dc086fa8a2c",
   "outputs": [
    {
     "name": "stdout",
     "output_type": "stream",
     "text": [
      "  FAILED: Directory migrations already exists and is not empty\r\n"
     ]
    }
   ],
   "execution_count": 2
  },
  {
   "metadata": {},
   "cell_type": "code",
   "outputs": [],
   "execution_count": null,
   "source": "",
   "id": "4852d70f2c18abb5"
  }
 ],
 "metadata": {
  "kernelspec": {
   "display_name": "Python 3",
   "language": "python",
   "name": "python3"
  },
  "language_info": {
   "codemirror_mode": {
    "name": "ipython",
    "version": 2
   },
   "file_extension": ".py",
   "mimetype": "text/x-python",
   "name": "python",
   "nbconvert_exporter": "python",
   "pygments_lexer": "ipython2",
   "version": "2.7.6"
  }
 },
 "nbformat": 4,
 "nbformat_minor": 5
}
